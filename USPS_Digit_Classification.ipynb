{
 "cells": [
  {
   "cell_type": "markdown",
   "metadata": {},
   "source": [
    "# Handwriting Recognition - USPS Post Dataset\n",
    "\n",
    "## Problem:\n",
    "\n",
    "This project introduces us to a major topic in Supervised Machine Learning, which is __Classification__. We shall be studying the multiclass classification problem, by applying supervised classification algorithms on two datasets provided:\n",
    "\n",
    "    1. MNIST Dataset\n",
    "\n",
    "    2. USPS Dataset\n",
    "    \n",
    "In particular, we shall be applying the following algorithms for the task of __Handwritten Character Recognition__:\n",
    "        1. Logistic Regression\n",
    "    \n",
    "        2. Single layered Neural Networks\n",
    "    \n",
    "        3. Convolutional Neural Networks\n",
    "    \n",
    "This is one of the standard problem in Machine Learning field, and many new algorithms are often compared by their output on this task.\n",
    "\n",
    "\n",
    "While solving the problem of Handwriting Recognition, we shall encounter the __NO FREE LUNCH THEOREM__. Our objective is to verify that this theorem holds even in this case, as we shall see in subsequent sections.\n",
    "\n",
    "\n",
    "## Dataset:\n",
    "\n",
    "    1. We have been provided with the MNIST handwritten digits dataset, \n",
    "    which consists of 70000 grayscale images, representing 10 digits - \n",
    "    0 to 9. The images are each of 28 x 28 pixel resolution.\n",
    "\n",
    "    2. We shall be using the MNIST dataset for training our machine \n",
    "    learning models.\n",
    "    \n",
    "    3. The other dataset is the USPS Dataset. It consists of approximately \n",
    "    20000 pixels, which are at resolution of 100ppi. We need to preprocess \n",
    "    these images to have same resolution as our MNIST data images, so that \n",
    "    our trained models can be applied on this dataset.\n",
    "    \n",
    "## Solution:\n",
    "\n",
    "First we begin by training 3 Machine learning algorithms on the MNIST dataset. Then we shall use these trained models for predicting labels of images in USPS Dataset.\n",
    "\n",
    "Let us begin by first importing the MNIST Dataset, and preprocessing them in required output format for training our algorithms."
   ]
  },
  {
   "cell_type": "code",
   "execution_count": 1,
   "metadata": {
    "collapsed": true
   },
   "outputs": [],
   "source": [
    "%matplotlib inline\n",
    "import numpy as np\n",
    "import cPickle as pickle\n",
    "import math\n",
    "import matplotlib.pyplot as plt\n",
    "import cv2\n",
    "import os"
   ]
  },
  {
   "cell_type": "markdown",
   "metadata": {},
   "source": [
    "Let us begin by importing the MNIST dataset, which is stored in a pickle file. We shall import each image which is 28 x 28 pixel matrices, and we shall flatten them out to a 1 x 784 dimension vector.\n",
    "\n",
    "### Split the MNIST Dataset\n",
    "\n",
    "We shall also split the dataset into __Train, validation and test data__. We shall have the following split for the data:\n",
    "    1. Train set -  50000 images\n",
    "    2. Validation set - 10000 images\n",
    "    3. Test set - 10000 images"
   ]
  },
  {
   "cell_type": "code",
   "execution_count": null,
   "metadata": {
    "collapsed": false
   },
   "outputs": [],
   "source": [
    "pickle_file = 'mnist.pkl'\n",
    "image_size = 28\n",
    "num_labels = 10\n",
    "\n",
    "def reformat(labels):\n",
    "    # Map 0 to [1.0, 0.0, 0.0 ...], 1 to [0.0, 1.0, 0.0 ...]\n",
    "    labels = (np.arange(num_labels) == labels[:,None]).astype(np.float32)\n",
    "    return labels\n",
    "\n",
    "\n",
    "with open(pickle_file, 'rb') as f:\n",
    "    save = pickle.load(f)\n",
    "    train_dataset = save[0][0]\n",
    "    train_labels = reformat(save[0][1])\n",
    "    raw_train_labels = save[0][1]\n",
    "    valid_dataset = save[1][0]\n",
    "    valid_labels = reformat(save[1][1])\n",
    "    raw_valid_labels = save[1][1]\n",
    "    test_dataset = save[2][0]\n",
    "    test_labels = reformat(save[2][1])\n",
    "    raw_test_labels = save[2][1]"
   ]
  },
  {
   "cell_type": "code",
   "execution_count": 3,
   "metadata": {
    "collapsed": false
   },
   "outputs": [
    {
     "name": "stdout",
     "output_type": "stream",
     "text": [
      "('Training set', (50000, 784), (50000, 10))\n",
      "('Validation set', (10000, 784), (10000, 10))\n",
      "('Test set', (10000, 784), (10000, 10))\n"
     ]
    }
   ],
   "source": [
    "print('Training set', train_dataset.shape, train_labels.shape)\n",
    "print('Validation set', valid_dataset.shape, valid_labels.shape)\n",
    "print('Test set', test_dataset.shape, test_labels.shape)"
   ]
  },
  {
   "cell_type": "markdown",
   "metadata": {},
   "source": [
    "### Logistic Regression\n",
    "\n",
    "Let us train our first machine learning model, which is the multiclass logistic regression. The model parameters are as follows:\n",
    "\n",
    "    1. Input: 784 element vector, representing a flattened image.\n",
    "    \n",
    "    2. We add a 1 to the vector, to handle the bias term. \n",
    "    Hence our input vector consists of 785 elements.\n",
    "    \n",
    "    3. The output is a 10 dimensional 'one-hot encoded' vector, \n",
    "    representing a single digit output.\n",
    "    \n",
    "    4. We shall be using batch gradient descent, to speed up \n",
    "    the training process,and converge the algorithm faster.\n",
    "    \n",
    "    5. We shall be using the Cross Entropy Cost function for \n",
    "    optimising our model weights.\n",
    "    \n",
    "    6. Since, the problem is actually a classification problem,\n",
    "    a Softmax layer is added after the regression output, to convert \n",
    "    the output values into class probabilities.\n",
    "    \n",
    "The logistic classification model can be represented as:\n",
    "\n",
    "    a[i] = Softmax(W*x[i] + b)\n",
    "\n",
    "    y[i] = exp(a[i])/sum(a[k])\n",
    "    \n",
    "    where x[i] is ith training sample and y[i] is the \n",
    "    predicted output vector corresponding of ith example."
   ]
  },
  {
   "cell_type": "code",
   "execution_count": 4,
   "metadata": {
    "collapsed": true
   },
   "outputs": [],
   "source": [
    "def accuracy(y, t):\n",
    "    count = 0\n",
    "    for i in range(len(y)):\n",
    "        if y[i] == t[i]:\n",
    "            count += 1\n",
    "    return float(count)/len(y)\n",
    "\n",
    "def one_hot_encoding(t):\n",
    "    return np.argmax(t, axis=1)"
   ]
  },
  {
   "cell_type": "code",
   "execution_count": 5,
   "metadata": {
    "collapsed": true
   },
   "outputs": [],
   "source": [
    "def plot_data(y_values1, label, axis_dim, xlabel, ylabel, title):\n",
    "    plt.plot(y_values1, 'b-',label=label)\n",
    "    plt.axis(axis_dim)\n",
    "    plt.ylabel(ylabel)\n",
    "    plt.xlabel(xlabel)\n",
    "    plt.title(title)\n",
    "    l = plt.legend()\n",
    "    plt.show()"
   ]
  },
  {
   "cell_type": "code",
   "execution_count": 6,
   "metadata": {
    "collapsed": false
   },
   "outputs": [],
   "source": [
    "def add_ones(X):\n",
    "    return np.hstack((np.zeros(shape=(X.shape[0],1), dtype='float') + 1, X))\n",
    "\n",
    "def calculate_entropy_loss(X, w, y):\n",
    "    loss = 0\n",
    "    t = np.dot(X, w)\n",
    "    for i in range(len(t)):\n",
    "        loss += -1 * np.dot(y[i], np.log(t[i].T))\n",
    "    return float(loss)/len(t)\n",
    "\n",
    "def softmax(t):\n",
    "    prob_matrix = []\n",
    "    for i in range(len(t)):\n",
    "        prob_vector = []\n",
    "        sum_exp = 0\n",
    "        for j in t[i]:\n",
    "            sum_exp += np.exp(j)\n",
    "        for k in t[i]:\n",
    "            prob_vector.append(float(np.exp(k))/sum_exp)\n",
    "        prob_matrix.append(prob_vector)\n",
    "    return np.array(prob_matrix)\n",
    "            \n",
    "def get_probabilities(X, theta):\n",
    "    t = np.dot(X, theta)\n",
    "    prob_vector = softmax(t)\n",
    "    return prob_vector\n",
    "\n",
    "def train_log_regression(X, y):\n",
    "    X = add_ones(X) # Bias term\n",
    "    maxiter = 100\n",
    "    batch_size = 20\n",
    "    n = X.shape[1] \n",
    "    m = X.shape[0]\n",
    "    theta = np.random.rand(n, len(y[0])) # Initialise random weights\n",
    "    lmbda = 0.01\n",
    "    alpha = 0.01\n",
    "    max_error = 0.1\n",
    "    loss = 10\n",
    "    err_iteration = []\n",
    "    train_accuracy = []\n",
    "    validation_accuracy = []\n",
    "    print \"num_iter | Loss\"\n",
    "    for iteration in xrange(maxiter):\n",
    "        start = 0\n",
    "        for i in range(m/batch_size):\n",
    "            out_probs = get_probabilities(\n",
    "                X[start:start+batch_size], theta)\n",
    "            grad = (1.0/batch_size) * np.dot(\n",
    "                X[start:start+batch_size].T,\n",
    "                (out_probs - y[start:start+batch_size]))\n",
    "            g0 = grad[0]\n",
    "            grad += ((lmbda * theta) / batch_size)\n",
    "            grad[0] = g0 \n",
    "            theta -= alpha * grad\n",
    "\n",
    "            # calculate the magnitude of the gradient and check for convergence\n",
    "            loss = calculate_entropy_loss(\n",
    "                X[start:start+batch_size], theta, y)\n",
    "            start += batch_size\n",
    "        err_iteration.append(loss)\n",
    "        pred_output_train = np.dot(X, theta)\n",
    "        train_accuracy.append(\n",
    "            accuracy(raw_train_labels,\n",
    "                     one_hot_encoding(pred_output_train)))\n",
    "        pred_output_valid = np.dot(add_ones(valid_dataset), theta)\n",
    "        validation_accuracy.append(accuracy(\n",
    "                raw_valid_labels, one_hot_encoding(pred_output_valid)))\n",
    "        if np.abs(loss)< max_error or math.isnan(loss):\n",
    "            break\n",
    "    return theta, err_iteration, train_accuracy, validation_accuracy"
   ]
  },
  {
   "cell_type": "code",
   "execution_count": 12,
   "metadata": {
    "collapsed": false,
    "scrolled": false
   },
   "outputs": [
    {
     "name": "stdout",
     "output_type": "stream",
     "text": [
      "num_iter | Loss\n"
     ]
    },
    {
     "name": "stderr",
     "output_type": "stream",
     "text": [
      "/usr/local/lib/python2.7/site-packages/ipykernel/__main__.py:8: RuntimeWarning: invalid value encountered in log\n"
     ]
    }
   ],
   "source": [
    "weights, err_iteration, train_accuracy, \n",
    "    validation_accuracy = train_log_regression(train_dataset, train_labels)"
   ]
  },
  {
   "cell_type": "markdown",
   "metadata": {},
   "source": [
    "Now that we have trained our logistic regression model, let us view how the model training has improved over iterations of our training.\n",
    "\n",
    "### Decreasing Loss as Model Trains "
   ]
  },
  {
   "cell_type": "code",
   "execution_count": 24,
   "metadata": {
    "collapsed": false
   },
   "outputs": [
    {
     "data": {
      "image/png": "[encoded data removed]",
      "text/plain": [
       "<matplotlib.figure.Figure at 0x118026fd0>"
      ]
     },
     "metadata": {},
     "output_type": "display_data"
    }
   ],
   "source": [
    "plot_data(err_iteration, 'loss', [0, 100, -2, -4], 'Iterations', \n",
    "          'Cross entropy loss', 'Loss change over iterations')"
   ]
  },
  {
   "cell_type": "markdown",
   "metadata": {},
   "source": [
    "### Increasing Accuracy of Model over Training Data"
   ]
  },
  {
   "cell_type": "code",
   "execution_count": 26,
   "metadata": {
    "collapsed": false
   },
   "outputs": [
    {
     "data": {
      "image/png": "[encoded data removed]",
      "text/plain": [
       "<matplotlib.figure.Figure at 0x1181b4c90>"
      ]
     },
     "metadata": {},
     "output_type": "display_data"
    }
   ],
   "source": [
    "plot_data(train_accuracy, 'loss', [0, 100, 0.8, 1], 'Iterations', \n",
    "          'Training Accuracy', \n",
    "          'Training accuracy change over iterations')"
   ]
  },
  {
   "cell_type": "markdown",
   "metadata": {},
   "source": [
    "### Increasing Accuracy of Model over Validation Data"
   ]
  },
  {
   "cell_type": "code",
   "execution_count": 27,
   "metadata": {
    "collapsed": false
   },
   "outputs": [
    {
     "data": {
      "image/png": "[encoded data removed]",
      "text/plain": [
       "<matplotlib.figure.Figure at 0x118412cd0>"
      ]
     },
     "metadata": {},
     "output_type": "display_data"
    }
   ],
   "source": [
    "plot_data(validation_accuracy, 'loss', [0, 100, 0.8, 1], \n",
    "          'Iterations', 'Validation Accuracy', \n",
    "          'Validation accuracy change over iterations')"
   ]
  },
  {
   "cell_type": "markdown",
   "metadata": {},
   "source": [
    "As we can see, as the model trains over increasing number of iterations over the training data:\n",
    "\n",
    "    1. Cross Entropy Loss Decreases per iteration\n",
    "    \n",
    "    2. Training Accuracy keeps increasing rapidly at beginning, \n",
    "    but tends to saturate as number of iterations increase. \n",
    "    We shall allow maximum of 100 iterations to prevent overfitting.\n",
    "    \n",
    "    3. Validation accuracy also increases as the model trains over \n",
    "    repeated iterations.\n",
    "    \n",
    "Now that we have trained our model successfully, let us report the results. __The model accuracy that is to be reported is the accuracy over test data.__ \n",
    "\n",
    "But first, let us calculate the final train accuracy and validation set accuracy."
   ]
  },
  {
   "cell_type": "code",
   "execution_count": 31,
   "metadata": {
    "collapsed": false
   },
   "outputs": [
    {
     "name": "stdout",
     "output_type": "stream",
     "text": [
      "Training Set Accuracy:  0.92498\n"
     ]
    }
   ],
   "source": [
    "pred_output_train = np.dot(add_ones(train_dataset), weights)\n",
    "print \"Training Set Accuracy: \", accuracy(raw_train_labels, \n",
    "one_hot_encoding(pred_output_train))"
   ]
  },
  {
   "cell_type": "code",
   "execution_count": 32,
   "metadata": {
    "collapsed": false
   },
   "outputs": [
    {
     "name": "stdout",
     "output_type": "stream",
     "text": [
      "Validation Set Accuracy:  0.926\n"
     ]
    }
   ],
   "source": [
    "pred_output_valid = np.dot(add_ones(valid_dataset), weights)\n",
    "print \"Validation Set Accuracy: \", accuracy(raw_valid_labels, \n",
    "one_hot_encoding(pred_output_valid))"
   ]
  },
  {
   "cell_type": "code",
   "execution_count": 13,
   "metadata": {
    "collapsed": false
   },
   "outputs": [
    {
     "name": "stdout",
     "output_type": "stream",
     "text": [
      "0.9225\n"
     ]
    }
   ],
   "source": [
    "pred_output_test = np.dot(add_ones(test_dataset), weights)\n",
    "print accuracy(raw_test_labels, one_hot_encoding(pred_output_test))"
   ]
  },
  {
   "cell_type": "markdown",
   "metadata": {},
   "source": [
    "#### The accuracy of our LOGISTIC REGRESSION classifier on test MNIST data is 0.9225 or 92.25 %.\n",
    "\n",
    "Now let us move on to train our next algorithm."
   ]
  },
  {
   "cell_type": "markdown",
   "metadata": {},
   "source": [
    "## Single Layer Neural Network\n",
    "\n",
    "Next we shall be using a Neural network with one single layer, for attempting to classify the handwritten digits. We shall use the same MNIST dataset, which we split into train-validation-test for training and testing purpose. \n",
    "\n",
    "Here are the Neural Network parameters used:\n",
    "\n",
    "    1. Input Layer - 784 neurons\n",
    "    \n",
    "    2. Hidden Layer - 500 neurons\n",
    "    \n",
    "    3. Output Layer - 10 neurons\n",
    "    \n",
    "    4. Batch size for Stochastic Gradient descent - 100\n",
    "    \n",
    "    5. Number of training iterations - 5\n",
    "    \n",
    "    6. Gradient Descent Learning rate - 0.5\n",
    "    \n",
    "We shall initialise the weights between the input layer and hidden layer; and hidden layer and output layer randomly(normal) using a standard deviation of 0.2"
   ]
  },
  {
   "cell_type": "code",
   "execution_count": 13,
   "metadata": {
    "collapsed": false
   },
   "outputs": [
    {
     "name": "stdout",
     "output_type": "stream",
     "text": [
      "0\n",
      "Validation accuracy:  0.9526\n",
      "1\n",
      "Validation accuracy:  0.961\n",
      "2\n",
      "Validation accuracy:  0.9693\n",
      "3\n",
      "Validation accuracy:  0.9704\n",
      "4\n",
      "Validation accuracy:  0.9738\n"
     ]
    }
   ],
   "source": [
    "train_size=50000\n",
    "test_size=10000\n",
    "features=784\n",
    "k=10\n",
    "hidden_layer = 500\n",
    "neural_neta = 0.5\n",
    "neural_b_size = 100\n",
    "neural_b_start = 1\n",
    "neural_iterations = 5\n",
    "hidden_wts = np.random.normal(0, 0.2, (hidden_layer, features))\n",
    "neural_out_wts = np.random.normal(0, 0.2,(k, hidden_layer))\n",
    "hidden_wts = hidden_wts/len(hidden_wts[1])\n",
    "neural_out_wts = neural_out_wts/len(neural_out_wts[1])\n",
    "n = np.zeros(neural_b_size)\n",
    "targetValues= train_labels.T\n",
    "validation_accuracy = []\n",
    "train_losses = []\n",
    "num_iter=0\n",
    "while(num_iter < neural_iterations):\n",
    "    neural_b_stop = min(train_size,neural_b_start+neural_b_size-1);\n",
    "    curr_train_design_mat = train_dataset[\n",
    "        neural_b_start:neural_b_stop]\n",
    "    curr_train_output_k_format = train_labels[\n",
    "        neural_b_start:neural_b_stop]\n",
    "    curr_train_size = len(curr_train_design_mat)\n",
    "    for j in range(0,neural_b_size-1):\n",
    "        train_line = curr_train_design_mat[j]\n",
    "        hidden_inp = np.dot(hidden_wts,train_line)\n",
    "        hidden_out = 1/(1 + np.exp(-1 * hidden_inp));\n",
    "        second_inp = np.dot(neural_out_wts,hidden_out)\n",
    "        neural_out_line = 1/(1 + np.exp(-1 * second_inp))\n",
    "\n",
    "        train_out_line = curr_train_output_k_format[j]\n",
    "        \n",
    "        second_err = np.multiply(\n",
    "            np.multiply(neural_out_line,(1 - neural_out_line)),\n",
    "                                 (neural_out_line - train_out_line))\n",
    "        hidden_err = np.multiply(\n",
    "            np.multiply(hidden_out,(1 - hidden_out)),\n",
    "            np.dot(neural_out_wts.T,second_err))\n",
    "        neural_out_wts = neural_out_wts - \n",
    "            neural_neta * np.dot(np.vstack(second_err),\n",
    "                                 np.vstack(hidden_out).T)\n",
    "        hidden_wts = hidden_wts - \n",
    "            neural_neta * np.dot(np.vstack(hidden_err),\n",
    "                                 np.vstack(train_line).T)\n",
    "    train_losses.append(np.sum(neural_out_line - train_out_line))    \n",
    "    neural_b_start = neural_b_start+neural_b_size\n",
    "    if(neural_b_start>train_size):\n",
    "        print num_iter\n",
    "        trained_val=np.zeros(len(valid_dataset))\n",
    "        test_input = valid_dataset\n",
    "        test_pred = []\n",
    "        for i in range(len(test_input)):\n",
    "            test_inp_line = test_input[i]\n",
    "            hidden_inp = np.dot(hidden_wts, test_inp_line)\n",
    "            hidden_out = 1/(1 + np.exp(-1 * hidden_inp))\n",
    "            second_inp = np.dot(neural_out_wts,hidden_out)\n",
    "            neural_out_line = 1/(1 + np.exp(-1 * second_inp))\n",
    "            test_pred.append(neural_out_line)\n",
    "        print \"Validation accuracy: \",accuracy(\n",
    "            raw_valid_labels, one_hot_encoding(np.array(test_pred)))\n",
    "        validation_accuracy.append(\n",
    "            accuracy(raw_valid_labels, one_hot_encoding(np.array(test_pred))))\n",
    "        neural_b_start = 1\n",
    "        num_iter = num_iter+1"
   ]
  },
  {
   "cell_type": "code",
   "execution_count": 42,
   "metadata": {
    "collapsed": false
   },
   "outputs": [
    {
     "data": {
      "image/png": "[encoded data removed]",
      "text/plain": [
       "<matplotlib.figure.Figure at 0x116927910>"
      ]
     },
     "metadata": {},
     "output_type": "display_data"
    }
   ],
   "source": [
    "plot_data(train_losses, 'loss', [0, 100, -5, 5], \n",
    "          'Iterations', 'Training Loss', \n",
    "          'Training Losses over epochs: Single layer NN')"
   ]
  },
  {
   "cell_type": "markdown",
   "metadata": {},
   "source": [
    "As we are using batch gradient descent, there are a lot of fluctuations in the training losses, which increase every time model encounters a new batch of data, but over many epochs the effective losses decrease and go down to zero as expected.\n",
    "\n",
    "Let us visualise, the increase in validation accuracy over 5 iterations of the model over train data."
   ]
  },
  {
   "cell_type": "code",
   "execution_count": 16,
   "metadata": {
    "collapsed": false
   },
   "outputs": [
    {
     "data": {
      "image/png": "[encoded data removed]",
      "text/plain": [
       "<matplotlib.figure.Figure at 0x116709050>"
      ]
     },
     "metadata": {},
     "output_type": "display_data"
    }
   ],
   "source": [
    "plot_data(validation_accuracy, 'accuracy', [0, 4, 0.9, 1],\n",
    "          'Iterations', 'Validation Accuracy', \n",
    "          'Validation accuracy over iterations Single layer NN')"
   ]
  },
  {
   "cell_type": "code",
   "execution_count": 10,
   "metadata": {
    "collapsed": false
   },
   "outputs": [
    {
     "name": "stdout",
     "output_type": "stream",
     "text": [
      "Model accuracy:  0.9709\n"
     ]
    }
   ],
   "source": [
    "test_pred = []\n",
    "for i in range(len(test_dataset)):\n",
    "    test_inp_line = test_dataset[i]\n",
    "    hidden_inp = np.dot(hidden_wts, test_inp_line)\n",
    "    hidden_out = 1/(1 + np.exp(-1 * hidden_inp))\n",
    "    second_inp = np.dot(neural_out_wts,hidden_out)\n",
    "    neural_out_line = 1/(1 + np.exp(-1 * second_inp))\n",
    "    test_pred.append(neural_out_line)\n",
    "print \"Model accuracy: \",accuracy(\n",
    "    raw_test_labels,one_hot_encoding(np.array(test_pred)))"
   ]
  },
  {
   "cell_type": "markdown",
   "metadata": {},
   "source": [
    "As we can see, the improvements of classification on the test set are massive after using a single layer neural network. We got an accuracy of __97.1%__ on the test dataset reserved from the MNIST dataset.\n",
    "\n",
    "Before we start with the __Convolutional Neural Network__, we are going to preprocess the USPS Dataset. \n",
    "After preprocessing the dataset, to have similar format as the MNIST dataset (since we have trained our models on this dataset), we are going to try and predict the accuracy of the __Logistic Regression__ model and the __Single Layer Neural Network__ model on the __USPS Datset__.\n",
    "\n",
    "This dataset has been completely hidden/unknown for our trained models, and having studied the __No Free Lunch Theorem__, we can expect a massive drop in the prediction accuracies.\n",
    "\n",
    "Before moving on to the USPS Dataset though, I would like to comment on the __'No Free Lunch Theorem'__\n",
    "\n",
    "## No Free Lunch (NFL) Theorem\n",
    "\n",
    "A model is a simplified representation of reality, and the simplifications are made to discard unnecessary detail and allow us to focus on the aspect of reality that we want to understand.  These simplifications are grounded on assumptions; these assumptions may hold in some situations, but may not hold in other situations.  This implies that a model that explains a certain situation well may fail in another situation.\n",
    "\n",
    "The __“No Free Lunch”__ theorem states that there is __no one model that works best for every problem.__  \n",
    "\n",
    "The assumptions of a great model for one problem may not hold for another problem, so it is common in machine learning to try multiple models and find one that works best for a particular problem.  \n",
    "\n",
    "This is __especially true in supervised learning__ problem, which we are trying to solve in this project.\n",
    "\n",
    "__Validation__ or __Cross-Validation__ is commonly used to assess the predictive accuracies of multiple models of varying complexity to find the best model.\n",
    "\n",
    "With an understanding of the theorem, let us move to the next section, in which we shall be able to verify it."
   ]
  },
  {
   "cell_type": "markdown",
   "metadata": {
    "collapsed": true
   },
   "source": [
    "## USPS Data \n",
    "\n",
    "### Data Processing\n",
    "\n",
    "So the USPS Dataset comprises of about 20000 images, which have a pixel resolution of 100ppi. But as we have trained the models on the MNIST dataset, the models expect a 784-dimensional feature vector as an input.\n",
    "\n",
    "Moreover, the pixels are 8-bit encoded, ie. have values between 0 and 255. Our model was trained to have feature values between 0 and 1.\n",
    "\n",
    "Because of this, we need to preprocess the USPS data images. We shall __resize__ and __rescale__ these images to take care of the above mentioned problems.\n",
    "\n",
    "The next sections of code define functions necessary for resizing and scaling. \n",
    "    \n",
    "    1. Then we iterate through each image and read it into a matrix as a \n",
    "    grayscale image.\n",
    "    \n",
    "    2. Resize and scale the read image\n",
    "    \n",
    "    3. Split it into input feature and an output label.\n",
    "    \n",
    "    4. Flatten the image matrix into a 784 dimension vector.\n",
    "    \n",
    "    5. One-hot encode the output labels to have a 10 dimensional output vector."
   ]
  },
  {
   "cell_type": "code",
   "execution_count": 33,
   "metadata": {
    "collapsed": true
   },
   "outputs": [],
   "source": [
    "path_to_data = \"./USPSdata/Numerals/\""
   ]
  },
  {
   "cell_type": "code",
   "execution_count": 34,
   "metadata": {
    "collapsed": true
   },
   "outputs": [],
   "source": [
    "def resize_and_scale(img, size, scale):\n",
    "    img = cv2.resize(img, size)\n",
    "    return 1 - np.array(img, \"float32\")/scale"
   ]
  },
  {
   "cell_type": "code",
   "execution_count": 37,
   "metadata": {
    "collapsed": false,
    "scrolled": false
   },
   "outputs": [],
   "source": [
    "img_list = os.listdir(path_to_data)\n",
    "sz = (28,28)\n",
    "validation_usps = []\n",
    "validation_usps_label = []\n",
    "for i in range(10):\n",
    "    label_data = path_to_data + str(i) + '/'\n",
    "    img_list = os.listdir(label_data)\n",
    "    for name in img_list:\n",
    "        if '.png' in name:\n",
    "            img = cv2.imread(label_data+name)\n",
    "            img = cv2.cvtColor(img, cv2.COLOR_BGR2GRAY)\n",
    "            resized_img = resize_and_scale(img, sz, 255)\n",
    "            validation_usps.append(resized_img.flatten())\n",
    "            validation_usps_label.append(i)"
   ]
  },
  {
   "cell_type": "code",
   "execution_count": 40,
   "metadata": {
    "collapsed": false
   },
   "outputs": [
    {
     "name": "stdout",
     "output_type": "stream",
     "text": [
      "(19999, 784)\n",
      "(19999, 10)\n"
     ]
    }
   ],
   "source": [
    "validation_usps = np.array(validation_usps)\n",
    "print validation_usps.shape\n",
    "validation_usps_label= np.array(validation_usps_label)\n",
    "print reformat(validation_usps_label).shape"
   ]
  },
  {
   "cell_type": "markdown",
   "metadata": {},
   "source": [
    "As verified above, we have input matrix as a 19999 x 784 matrix, and an output matrix of dimensions 19999 x 10.\n",
    "\n",
    "Now, that we have preprocessed the image as required by our trained models, we can test the performance of our models on this dataset.\n",
    "\n",
    "### Logistic Regression on USPS Data\n",
    "\n",
    "In this section, we are going to apply the pre-trained __Logistic Regression(LR)__ classifier on the USPS dataset. "
   ]
  },
  {
   "cell_type": "code",
   "execution_count": 78,
   "metadata": {
    "collapsed": false
   },
   "outputs": [],
   "source": [
    "pred_output_usps_lr = np.dot(add_ones(validation_usps), weights)"
   ]
  },
  {
   "cell_type": "code",
   "execution_count": 80,
   "metadata": {
    "collapsed": false
   },
   "outputs": [
    {
     "data": {
      "text/plain": [
       "0.3629181459072954"
      ]
     },
     "execution_count": 80,
     "metadata": {},
     "output_type": "execute_result"
    }
   ],
   "source": [
    "accuracy(validation_usps_label, one_hot_encoding(pred_output_usps_lr))"
   ]
  },
  {
   "cell_type": "markdown",
   "metadata": {},
   "source": [
    "__The accuracy of LR Model on USPS Dataset is 36.3%__\n",
    "\n",
    "As we can verify, the LR model performs very poorly on the USPS Dataset. This is a good verification of the No free Lunch theorem. As this dataset is completely unknown to our Logistic classifier, the model performs poorly.\n",
    "\n",
    "Now let us explore the results of Single layer Neural Network model on this dataset.\n",
    "\n",
    "### Single Layer Neural Network on USPS Data\n",
    "\n",
    "In this section we shall apply the Neural Network classifier on the USPS Dataset. \n",
    "\n",
    "We hypothesize a poor performance of the model, in keeping with the No Free Lunch Theorem."
   ]
  },
  {
   "cell_type": "code",
   "execution_count": 82,
   "metadata": {
    "collapsed": false
   },
   "outputs": [
    {
     "name": "stdout",
     "output_type": "stream",
     "text": [
      "Model accuracy:  0.492274613731\n"
     ]
    }
   ],
   "source": [
    "test_pred = []\n",
    "for i in range(len(validation_usps)):\n",
    "    test_inp_line = validation_usps[i]\n",
    "    hidden_inp = np.dot(hidden_wts, test_inp_line)\n",
    "    hidden_out = 1/(1 + np.exp(-1 * hidden_inp))\n",
    "    second_inp = np.dot(neural_out_wts,hidden_out)\n",
    "    neural_out_line = 1/(1 + np.exp(-1 * second_inp))\n",
    "    test_pred.append(neural_out_line)\n",
    "print \"Model accuracy: \",accuracy(\n",
    "    validation_usps_label, one_hot_encoding(np.array(test_pred)))"
   ]
  },
  {
   "cell_type": "markdown",
   "metadata": {},
   "source": [
    "The results of Single Layer Neural Network on USPS Data is as follows:\n",
    "\n",
    "#### SNN on USPS Accuracy : 49.23 %\n",
    "\n",
    "As we can see, the model performs somewhat better than the Logistic classifier, as was the case for even MNIST Dataset.\n",
    "\n",
    "But due to lack of training the model on this data, and by NFL, the model performance is poor.\n",
    "\n",
    "Now let us implement a convolutional neural network in the following section.\n",
    "\n",
    "## Convolutional Neural Network\n",
    "\n",
    "These models are the successors of the single layer Neural Network we implemented previously, and belong to the class of __Deep Learning Networks__. They have derived their name, from the fact that, they stack many layers of perceptrons one after the other, to form a deep representation.\n",
    "\n",
    "Each layer has a different task and an associated activation function. The main parts of a Convolutional Neural Network or __ConvNets__ as they are referred to, are as follows:\n",
    "    \n",
    "    1. Input Layer\n",
    "    \n",
    "    2. Convolutional Layer\n",
    "    \n",
    "    3. ReLu Layer\n",
    "    \n",
    "    4. Max Pooling Layer\n",
    "    \n",
    "    5. Dropout Layer(Only for training)\n",
    "    \n",
    "    6. Fully Connected Layers\n",
    "    \n",
    "__Convolutional Layers__ and __ReLu layers__ are responsible for feature extractions in the given image. They start from representing simple patterns in the images(such as edges, corners) and represent more complex patterns in the deeper layers, which are usually representations of combined simple layers.\n",
    "\n",
    "__Max Pooling Layers__ are used for reducing dimensions(__strides__) by eliminating redundant data in the patterns, and storing the important features from the convolutional layers.\n",
    "\n",
    "__Dropout Layers__ are used for training the network to generalise better on data. The layer removes random connections in between perceptrons of different layers, which makes the system more robust on noisy data, and different representations of similar images.\n",
    "\n",
    "__Fully Connected Layers__ are at the end of the network, which train based on the extracted features of previous layers mentioned above. They are similar to The previously trained neural network, only with more hidden layers.\n",
    "\n",
    "With this explanation of ConvNets, we are well equipped to train a CNN on our MNIST Dataset. We shall be using __Tensorflow__ for building a CNN, and train on our CPU.\n",
    "\n",
    "\n",
    "As always, let us first conver the MNIST data, into tensors, so that we can feed it to the tensorflow graph."
   ]
  },
  {
   "cell_type": "code",
   "execution_count": 41,
   "metadata": {
    "collapsed": true
   },
   "outputs": [],
   "source": [
    "import tensorflow as tf"
   ]
  },
  {
   "cell_type": "code",
   "execution_count": 42,
   "metadata": {
    "collapsed": false
   },
   "outputs": [],
   "source": [
    "training_inp = np.reshape(train_dataset, (50000, 28, 28))\n",
    "valid_inp = np.reshape(valid_dataset, (10000, 28, 28))\n",
    "test_inp = np.reshape(test_dataset, (10000, 28, 28))\n",
    "usps_data = np.reshape(validation_usps, (19999, 28, 28))"
   ]
  },
  {
   "cell_type": "code",
   "execution_count": 43,
   "metadata": {
    "collapsed": false
   },
   "outputs": [
    {
     "name": "stdout",
     "output_type": "stream",
     "text": [
      "('Training set', (50000, 28, 28, 1), (50000, 10))\n",
      "('Validation set', (10000, 28, 28, 1), (10000, 10))\n",
      "('Test set', (10000, 28, 28, 1), (10000, 10))\n",
      "('USPS set', (19999, 28, 28, 1), (19999, 10))\n"
     ]
    }
   ],
   "source": [
    "image_size = 28\n",
    "num_labels = 10\n",
    "num_channels = 1 # grayscale\n",
    "\n",
    "def reformat(dataset, labels):\n",
    "  dataset = dataset.reshape(\n",
    "    (-1, image_size, image_size, num_channels)).astype(np.float32)\n",
    "  labels = (np.arange(num_labels) == labels[:,None]).astype(np.float32)\n",
    "  return dataset, labels\n",
    "train_dataset, train_labels = reformat(training_inp, raw_train_labels)\n",
    "valid_dataset, valid_labels = reformat(valid_inp, raw_valid_labels)\n",
    "test_dataset, test_labels = reformat(test_inp, raw_test_labels)\n",
    "usps_dataset, usps_labels = reformat(usps_data, validation_usps_label)\n",
    "print('Training set', train_dataset.shape, train_labels.shape)\n",
    "print('Validation set', valid_dataset.shape, valid_labels.shape)\n",
    "print('Test set', test_dataset.shape, test_labels.shape)\n",
    "print('USPS set', usps_dataset.shape, usps_labels.shape)"
   ]
  },
  {
   "cell_type": "markdown",
   "metadata": {},
   "source": [
    "As printed out in previous section, we have tensors representing our __MNIST Data__ and the __USPS Data__.\n",
    "\n",
    "#### Note: USPS data and MNIST Test set are both not used in training phase. They shall only be used to output the final accuracy of our trained CNN.\n",
    "\n",
    "We are just building the graph in a single process, because CNNs are extremely memory intensive."
   ]
  },
  {
   "cell_type": "code",
   "execution_count": 44,
   "metadata": {
    "collapsed": false
   },
   "outputs": [],
   "source": [
    "def accuracy(predictions, labels):\n",
    "    return (100.0 * np.sum(np.argmax(predictions, 1) == np.argmax(labels, 1))\n",
    "          / predictions.shape[0])"
   ]
  },
  {
   "cell_type": "markdown",
   "metadata": {},
   "source": [
    "#### Convolutional Neural Network Parameters\n",
    "\n",
    "In our model, we shall se having the following parameters:\n",
    "    1. Batch Size: 16\n",
    "    \n",
    "    2. Convolutional Patch Size: 5 x 5\n",
    "    \n",
    "    3. Channels: 1 (Grayscale Image)\n",
    "    \n",
    "    4. Regularisation beta: 0.001\n",
    "    \n",
    "    5. Dropout Probability: 0.5\n",
    "    \n",
    "    6. Fully Connected Layer: Hidden layer size - 64\n",
    "    \n",
    "    7. Output Layer: 10 neurons\n",
    "    \n",
    "    8. Stride length: 2 pixels\n",
    "    \n",
    "Having defined the convolutional network parameters, lets train the CNN in following section. \n",
    "\n",
    "We shall get the accuracy of our model on MNIST test set and USPS Data at the end of training phase, and after predicting on the above mentioned sets."
   ]
  },
  {
   "cell_type": "code",
   "execution_count": 45,
   "metadata": {
    "collapsed": false
   },
   "outputs": [],
   "source": [
    "batch_size = 16\n",
    "patch_size = 5\n",
    "depth = 16\n",
    "num_hidden = 64\n",
    "beta_regul = 1e-3\n",
    "drop_out = 0.5\n",
    "\n",
    "graph = tf.Graph()\n",
    "\n",
    "with graph.as_default():\n",
    "\n",
    "  # Input data.\n",
    "  tf_train_dataset = tf.placeholder(\n",
    "    tf.float32, shape=(batch_size, image_size, image_size, num_channels))\n",
    "  tf_train_labels = tf.placeholder(tf.float32, \n",
    "                                   shape=(batch_size, num_labels))\n",
    "  tf_valid_dataset = tf.constant(valid_dataset)\n",
    "  tf_test_dataset = tf.constant(test_dataset)\n",
    "  tf_usps_dataset = tf.constant(usps_dataset)\n",
    "  beta_regul = tf.placeholder(tf.float32)\n",
    "  global_step = tf.Variable(0)\n",
    "  \n",
    "  # Variables.\n",
    "  layer1_weights = tf.Variable(tf.truncated_normal(\n",
    "      [patch_size, patch_size, num_channels, depth], stddev=0.1))\n",
    "  layer1_biases = tf.Variable(tf.zeros([depth]))\n",
    "  layer2_weights = tf.Variable(tf.truncated_normal(\n",
    "      [patch_size, patch_size, depth, depth], stddev=0.1))\n",
    "  layer2_biases = tf.Variable(tf.constant(1.0, shape=[depth]))\n",
    "  size3 = ((image_size - patch_size + 1) // 2 - patch_size + 1) // 2\n",
    "  layer3_weights = tf.Variable(tf.truncated_normal(\n",
    "      [size3 * size3 * depth, num_hidden], stddev=0.1))\n",
    "  layer3_biases = tf.Variable(tf.constant(1.0, shape=[num_hidden]))\n",
    "  layer4_weights = tf.Variable(tf.truncated_normal(\n",
    "      [num_hidden, num_hidden], stddev=0.1))\n",
    "  layer4_biases = tf.Variable(tf.constant(1.0, shape=[num_hidden]))\n",
    "  layer5_weights = tf.Variable(tf.truncated_normal(\n",
    "      [num_hidden, num_labels], stddev=0.1))\n",
    "  layer5_biases = tf.Variable(tf.constant(1.0, shape=[num_labels]))\n",
    "  \n",
    "  # Model.\n",
    "  def model(data, keep_prob):\n",
    "    # C1 input 28 x 28\n",
    "    conv1 = tf.nn.conv2d(data, layer1_weights, \n",
    "                         [1, 1, 1, 1], padding='VALID')\n",
    "    bias1 = tf.nn.relu(conv1 + layer1_biases)\n",
    "    # S2 input 24 x 24\n",
    "    pool2 = tf.nn.max_pool(bias1, [1, 2, 2, 1], \n",
    "                           [1, 2, 2, 1], padding='VALID')\n",
    "    # C3 input 12 x 12\n",
    "    conv3 = tf.nn.conv2d(pool2, layer2_weights, \n",
    "                         [1, 1, 1, 1], padding='VALID')\n",
    "    bias3 = tf.nn.relu(conv3 + layer2_biases)\n",
    "    # S4 input 8 x 8\n",
    "    pool4 = tf.nn.max_pool(bias3, [1, 2, 2, 1], \n",
    "                           [1, 2, 2, 1], padding='VALID')\n",
    "    # F5 input 4 x 4\n",
    "    shape = pool4.get_shape().as_list()\n",
    "    reshape = tf.reshape(pool4, \n",
    "                         [shape[0], shape[1] * shape[2] * shape[3]])\n",
    "    hidden5 = tf.nn.relu(tf.matmul(\n",
    "            reshape, layer3_weights) + layer3_biases)\n",
    "    # F6\n",
    "    drop5 = tf.nn.dropout(hidden5, keep_prob)\n",
    "    hidden6 = tf.nn.relu(tf.matmul(\n",
    "            hidden5, layer4_weights) + layer4_biases)\n",
    "    drop6 = tf.nn.dropout(hidden6, keep_prob)\n",
    "    return tf.matmul(drop6, layer5_weights) + layer5_biases\n",
    "  \n",
    "  # Training computation.\n",
    "  logits = model(tf_train_dataset, drop_out)\n",
    "  loss = tf.reduce_mean(\n",
    "    tf.nn.softmax_cross_entropy_with_logits(\n",
    "        logits, tf_train_labels)) \n",
    "        + beta_regul * (tf.nn.l2_loss(layer1_weights) \n",
    "                        + tf.nn.l2_loss(layer2_weights) \n",
    "                        + tf.nn.l2_loss(layer3_weights) \n",
    "                        + tf.nn.l2_loss(layer4_weights)\n",
    "                        + tf.nn.l2_loss(layer5_weights))\n",
    "    \n",
    "  # Optimizer.\n",
    "  learning_rate = tf.train.exponential_decay(\n",
    "        0.05, global_step, 1000, 0.85, staircase=True)\n",
    "  optimizer = tf.train.GradientDescentOptimizer(learning_rate)\n",
    "                        .minimize(loss, global_step=global_step)\n",
    "  \n",
    "  # Predictions for the training, validation, and test data.\n",
    "  train_prediction = tf.nn.softmax(logits)\n",
    "  valid_prediction = tf.nn.softmax(model(tf_valid_dataset, 1.0))\n",
    "  test_prediction = tf.nn.softmax(model(tf_test_dataset, 1.0))\n",
    "  usps_prediction = tf.nn.softmax(model(tf_usps_dataset, 1.0))"
   ]
  },
  {
   "cell_type": "code",
   "execution_count": 46,
   "metadata": {
    "collapsed": false
   },
   "outputs": [
    {
     "name": "stdout",
     "output_type": "stream",
     "text": [
      "Initialized\n",
      "Minibatch loss at step 0: 3.529994\n",
      "Minibatch accuracy: 6.2%\n",
      "Validation accuracy: 10.6%\n",
      "Minibatch loss at step 1000: 0.263206\n",
      "Minibatch accuracy: 93.8%\n",
      "Validation accuracy: 94.6%\n",
      "Minibatch loss at step 2000: 0.237529\n",
      "Minibatch accuracy: 93.8%\n",
      "Validation accuracy: 96.4%\n",
      "Minibatch loss at step 3000: 0.241817\n",
      "Minibatch accuracy: 93.8%\n",
      "Validation accuracy: 96.6%\n",
      "Minibatch loss at step 4000: 0.130609\n",
      "Minibatch accuracy: 100.0%\n",
      "Validation accuracy: 97.8%\n",
      "Minibatch loss at step 5000: 0.148814\n",
      "Minibatch accuracy: 100.0%\n",
      "Validation accuracy: 97.6%\n",
      "Minibatch loss at step 6000: 0.218663\n",
      "Minibatch accuracy: 100.0%\n",
      "Validation accuracy: 97.9%\n",
      "Minibatch loss at step 7000: 0.214761\n",
      "Minibatch accuracy: 93.8%\n",
      "Validation accuracy: 98.3%\n",
      "Minibatch loss at step 8000: 0.112256\n",
      "Minibatch accuracy: 100.0%\n",
      "Validation accuracy: 98.2%\n",
      "Minibatch loss at step 9000: 0.119111\n",
      "Minibatch accuracy: 100.0%\n",
      "Validation accuracy: 98.1%\n",
      "Minibatch loss at step 10000: 0.292125\n",
      "Minibatch accuracy: 93.8%\n",
      "Validation accuracy: 98.4%\n",
      "Minibatch loss at step 11000: 0.178908\n",
      "Minibatch accuracy: 93.8%\n",
      "Validation accuracy: 98.3%\n",
      "Minibatch loss at step 12000: 0.114231\n",
      "Minibatch accuracy: 100.0%\n",
      "Validation accuracy: 98.5%\n",
      "Minibatch loss at step 13000: 0.105859\n",
      "Minibatch accuracy: 100.0%\n",
      "Validation accuracy: 98.5%\n",
      "Minibatch loss at step 14000: 0.160570\n",
      "Minibatch accuracy: 100.0%\n",
      "Validation accuracy: 98.5%\n",
      "Minibatch loss at step 15000: 0.112208\n",
      "Minibatch accuracy: 100.0%\n",
      "Validation accuracy: 98.7%\n",
      "Minibatch loss at step 16000: 0.112096\n",
      "Minibatch accuracy: 100.0%\n",
      "Validation accuracy: 98.5%\n",
      "Minibatch loss at step 17000: 0.108502\n",
      "Minibatch accuracy: 100.0%\n",
      "Validation accuracy: 98.5%\n",
      "Minibatch loss at step 18000: 0.107968\n",
      "Minibatch accuracy: 100.0%\n",
      "Validation accuracy: 98.5%\n",
      "Minibatch loss at step 19000: 0.120067\n",
      "Minibatch accuracy: 100.0%\n",
      "Validation accuracy: 98.5%\n",
      "Minibatch loss at step 20000: 0.140188\n",
      "Minibatch accuracy: 100.0%\n",
      "Validation accuracy: 98.5%\n",
      "Test accuracy: 98.7%\n",
      "USPS data accuracy: 63.0%\n"
     ]
    }
   ],
   "source": [
    "num_steps = 20001\n",
    "\n",
    "with tf.Session(graph=graph) as session:\n",
    "  tf.initialize_all_variables().run()\n",
    "  print('Initialized')\n",
    "  for step in range(num_steps):\n",
    "    offset = (step * batch_size) % \n",
    "            (train_labels.shape[0] - batch_size)\n",
    "    batch_data = train_dataset[offset:(offset + batch_size), :, :, :]\n",
    "    batch_labels = train_labels[offset:(offset + batch_size), :]\n",
    "    feed_dict = {tf_train_dataset : batch_data, \n",
    "                 tf_train_labels : batch_labels, beta_regul : 1e-3}\n",
    "    _, l, predictions = session.run(\n",
    "      [optimizer, loss, train_prediction], feed_dict=feed_dict)\n",
    "    if (step % 1000 == 0):\n",
    "      print('Minibatch loss at step %d: %f' % (step, l))\n",
    "      print('Minibatch accuracy: %.1f%%' % \n",
    "            accuracy(predictions, batch_labels))\n",
    "      print('Validation accuracy: %.1f%%' % \n",
    "            accuracy(valid_prediction.eval(), valid_labels))\n",
    "  print('Test accuracy: %.1f%%' % accuracy(\n",
    "        test_prediction.eval(), test_labels))\n",
    "  print('USPS data accuracy: %.1f%%' % accuracy(\n",
    "            usps_prediction.eval(), usps_labels))\n"
   ]
  },
  {
   "cell_type": "markdown",
   "metadata": {
    "collapsed": true
   },
   "source": [
    "We have trained the data for 20000 epochs, after which we have stopped in order to avoid overfitting.\n",
    "\n",
    "Though we have printed out the results above, let us formally state them below:\n",
    "\n",
    "#### CNN accuracy MNIST test: 98.7 %\n",
    "\n",
    "#### CNN accuracy USPS data: 63.0 %\n",
    "\n",
    "There is a massive improvement on the USPS Data, as compared to the MNIST Dataset. This proves that __CNNs are able to better generalise on unseen data__ than single layer neural networks or logistic classifier model.\n",
    "\n",
    "Again, we face the consequences of the __No free Lunch Theorem__, and hence performance drops even for CNNs on USPS Data."
   ]
  },
  {
   "cell_type": "markdown",
   "metadata": {},
   "source": [
    "## Conclusion\n",
    "\n",
    "In this project we were able to achieve the following:\n",
    "\n",
    "    1. Train and implement 3 machine learning models on MNIST Dataset, namely:\n",
    "    \n",
    "        i. Logistic Regression Classifier\n",
    "        \n",
    "        ii. Single Layer Neural Network\n",
    "        \n",
    "        iii. Convolutional Neural Network\n",
    "    \n",
    "    2. The model performances are as follows, on test MNIST and USPS Data:\n",
    "        \n",
    "        i. MNIST Test set:\n",
    "            \n",
    "            a. Logistic Regression Classifier: 92.3%\n",
    "            \n",
    "            b. Single Layer Neural Network:    97.1%\n",
    "            \n",
    "            c.Convolutional Neural Network:    98.7%\n",
    "        \n",
    "        ii. USPS Data set:\n",
    "            \n",
    "            a. Logistic Regression Classifier: 36.3%\n",
    "            \n",
    "            b. Single Layer Neural Network:    49.2%\n",
    "            \n",
    "            c.Convolutional Neural Network:    63.0%\n",
    "    \n",
    "    3. We learnt about the 'No Free Lunch Theorem' in Machine Learning,\n",
    "    and also verified its truth by testing the performance of our model \n",
    "    on the USPS Dataset.\n",
    "    \n",
    "    4. In conclusion, Convolutional Neural networks seem the way forward, \n",
    "    and we have verified the impact of Deep Learning on simple task of handwriting \n",
    "    recognition. CNNs are performing some state of the art work on various \n",
    "    Computer Vision tasks as well, in various fields such as medicine, \n",
    "    automated cars, object detection, etc."
   ]
  }
 ],
 "metadata": {
  "kernelspec": {
   "display_name": "Python 2",
   "language": "python",
   "name": "python2"
  },
  "language_info": {
   "codemirror_mode": {
    "name": "ipython",
    "version": 2
   },
   "file_extension": ".py",
   "mimetype": "text/x-python",
   "name": "python",
   "nbconvert_exporter": "python",
   "pygments_lexer": "ipython2",
   "version": "2.7.12"
  }
 },
 "nbformat": 4,
 "nbformat_minor": 0
}
